{
 "cells": [
  {
   "cell_type": "markdown",
   "id": "1619ef86-10c9-4da0-90fc-f622fcb0dcb6",
   "metadata": {},
   "source": [
    "# opencv 打开图像"
   ]
  },
  {
   "cell_type": "markdown",
   "id": "593f9e75-fbc9-4fe3-aad5-03e7ea48c517",
   "metadata": {},
   "source": [
    "- cv.imread"
   ]
  },
  {
   "cell_type": "code",
   "execution_count": 1,
   "id": "c6ab5719-05f1-4836-a307-6e2f69c88f94",
   "metadata": {},
   "outputs": [],
   "source": [
    "import cv2\n",
    "img = cv2.imread(\"../bambi.png\")\n",
    "cv2.imshow(\"img\", img)\n",
    "cv2.waitKey(0)\n",
    "cv2.destroyAllWindows()"
   ]
  },
  {
   "cell_type": "code",
   "execution_count": null,
   "id": "0df06f6e-3660-4677-bef9-506e275c70d5",
   "metadata": {},
   "outputs": [],
   "source": []
  }
 ],
 "metadata": {
  "kernelspec": {
   "display_name": "Python 3 (ipykernel)",
   "language": "python",
   "name": "python3"
  },
  "language_info": {
   "codemirror_mode": {
    "name": "ipython",
    "version": 3
   },
   "file_extension": ".py",
   "mimetype": "text/x-python",
   "name": "python",
   "nbconvert_exporter": "python",
   "pygments_lexer": "ipython3",
   "version": "3.9.0"
  }
 },
 "nbformat": 4,
 "nbformat_minor": 5
}
